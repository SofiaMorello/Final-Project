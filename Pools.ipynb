{
 "cells": [
  {
   "cell_type": "markdown",
   "metadata": {},
   "source": [
    "## **FTK (FOR THE KIDS) - CMPINF0010 FINAL PROJECT**\n",
    "\n",
    "\n",
    "*INTRODUCTION*      \n",
    "When considering what would qualify a neighborhood as being the best, we decided that it should be based on each neighborhood's funness level. And what group of people are the best at decided whether something is fun or not? Kids.\n",
    "\n",
    "Using the datasets provided by the WPRDC, we narrowed down the factors for the funnest neighborhood in Pittsburgh to:\n",
    "* pools\n",
    "* parks\n",
    "* playgrounds\n"
   ]
  },
  {
   "cell_type": "markdown",
   "metadata": {},
   "source": [
    "*THE METRIC*    \n",
    "We decided the best way of judging which neighborhood had the best of each would be through the amount of space the specific factor takes up per person who lives there. For example a small populated neighborhood with a 300 square meter park would win over a largely populated one with the same area. "
   ]
  },
  {
   "cell_type": "code",
   "execution_count": 2,
   "metadata": {},
   "outputs": [],
   "source": [
    "import pandas as pd\n",
    "from matplotlib import pyplot as plt"
   ]
  },
  {
   "cell_type": "code",
   "execution_count": 15,
   "metadata": {},
   "outputs": [
    {
     "name": "stdout",
     "output_type": "stream",
     "text": [
      "{'Allegheny Center': 1411.0, 'Allegheny West': 343.0, 'Allentown': 2558.0, 'Arlington': 1852.0, 'Arlington Heights': 272.0, 'Banksville': 3858.0, 'Bedford Dwellings': 1349.0, 'Beechview': 8078.0, 'Beltzhoover': 1702.0, 'Bloomfield': 8669.0, 'Bluff': 6294.0, 'Bon Air': 920.0, 'Brighton Heights': 7421.0, 'Brookline': 13160.0, 'California-Kirkbride': 803.0, 'Carrick': 10122.0, 'Central Business District': 4060.0, 'Central Lawrenceville': 4775.0, 'Central Northside': 2892.0, 'Central Oakland': 5822.0, 'Chartiers City': 560.0, 'Chateau': 3.0, 'Crafton Heights': 3964.0, 'Crawford-Roberts': 2225.0, 'Duquesne Heights': 2522.0, 'East Allegheny': 2095.0, 'East Carnegie': 610.0, 'East Hills': 2859.0, 'East Liberty': 5537.0, 'Elliott': 2491.0, 'Esplen': 309.0, 'Fairywood': 1181.0, 'Fineview': 1270.0, 'Friendship': 1840.0, 'Garfield': 3966.0, 'Glen Hazel': 716.0, 'Greenfield': 7690.0, 'Hays': 405.0, 'Hazelwood': 4257.0, 'Highland Park': 6810.0, 'Homewood North': 3371.0, 'Homewood South': 2276.0, 'Homewood West': 850.0, 'Knoxville': 4255.0, 'Larimer': 1641.0, 'Lincoln Place': 3499.0, 'Lincoln-Lemington-Belmar': 4955.0, 'Lower Lawrenceville': 2572.0, 'Manchester': 1944.0, 'Marshall-Shadeland': 6195.0, 'Middle Hill': 1760.0, 'Morningside': 3262.0, 'Mount Oliver Borough': 3399.0, 'Mount Washington': 8743.0, 'Mt. Oliver': 598.0, 'New Homestead': 973.0, 'North Oakland': 9602.0, 'North Shore': 205.0, 'Northview Heights': 1545.0, 'Oakwood': 1058.0, 'Overbrook': 3682.0, 'Perry North': 3771.0, 'Perry South': 3398.0, 'Point Breeze': 5414.0, 'Point Breeze North': 1732.0, 'Polish Hill': 1331.0, 'Regent Square': 1033.0, 'Ridgemont': 314.0, 'Shadyside': 13562.0, 'Sheraden': 5684.0, 'South Oakland': 2921.0, 'South Shore': 12.0, 'South Side Flats': 6292.0, 'South Side Slopes': 4583.0, 'Spring Garden': 840.0, 'Spring Hill-City View': 2456.0, 'Squirrel Hill North': 11336.0, 'Squirrel Hill South': 16042.0, 'St. Clair': 270.0, 'Stanton Heights': 4761.0, 'Strip District': 747.0, 'Summer Hill': 1191.0, 'Swisshelm Park': 1345.0, 'Terrace Village': 2292.0, 'Troy Hill': 2283.0, 'Upper Hill': 1884.0, 'Upper Lawrenceville': 2754.0, 'West End': 235.0, 'West Oakland': 1717.0, 'Westwood': 3537.0, 'Windgap': 1534.0}\n"
     ]
    }
   ],
   "source": [
    "population = pd.read_csv(\"https://data.wprdc.org/dataset/5b18c198-474c-4723-b735-cc5220ad43cc/resource/82f29015-6905-4b1c-8300-afe9bb2231b3/download/total-population.csv\")\n",
    "populationDict = dict()\n",
    "\n",
    "for i in range(len(population)):\n",
    "    item = population.loc[i, 'Neighborhood']\n",
    "    populationDict[item] = population.loc[i, 'Estimate; Total']\n",
    "    \n",
    "print(populationDict)"
   ]
  },
  {
   "cell_type": "code",
   "execution_count": 4,
   "metadata": {},
   "outputs": [],
   "source": [
    "poolData = pd.read_csv(\"https://data.wprdc.org/datastore/dump/5cc254fe-2cbd-4912-9f44-2f95f0beea9a\")\n",
    "\n",
    "poolDict = dict()"
   ]
  },
  {
   "cell_type": "code",
   "execution_count": 5,
   "metadata": {},
   "outputs": [],
   "source": [
    "for i in range(len(poolData)):\n",
    "\n",
    "    item = poolData.loc[i, 'neighborhood']\n",
    "    \n",
    "    if item in poolDict:\n",
    "        poolDict[item] += 1 \n",
    "    else:\n",
    "        poolDict[item] = 1"
   ]
  },
  {
   "cell_type": "code",
   "execution_count": 6,
   "metadata": {},
   "outputs": [
    {
     "data": {
      "text/plain": [
       "South Side Flats     2\n",
       "Highland Park        2\n",
       "Bedford Dwellings    1\n",
       "South Side Slopes    1\n",
       "Westwood             1\n",
       "Name: neighborhood, dtype: int64"
      ]
     },
     "execution_count": 6,
     "metadata": {},
     "output_type": "execute_result"
    }
   ],
   "source": [
    "poolSeries = pd.Series(poolDict, name = \"neighborhood\")\n",
    "poolSeries.sort_values(ascending = False)[:5]"
   ]
  },
  {
   "cell_type": "code",
   "execution_count": 7,
   "metadata": {},
   "outputs": [
    {
     "data": {
      "text/plain": [
       "Text(0, 0.5, '# of Pools')"
      ]
     },
     "execution_count": 7,
     "metadata": {},
     "output_type": "execute_result"
    },
    {
     "data": {
      "image/png": "[encoded data removed]",
      "text/plain": [
       "<Figure size 432x288 with 1 Axes>"
      ]
     },
     "metadata": {
      "needs_background": "light"
     },
     "output_type": "display_data"
    }
   ],
   "source": [
    "poolSeries.sort_values(ascending=False)[:10].plot.bar()\n",
    "plt.title('Pools per Neighborhood')\n",
    "plt.xlabel('Neighborhoods')\n",
    "plt.ylabel('# of Pools')"
   ]
  },
  {
   "cell_type": "code",
   "execution_count": 8,
   "metadata": {},
   "outputs": [],
   "source": [
    "poolCapacityDict = dict()\n",
    "for i in range(len(poolData)):\n",
    "\n",
    "    item = poolData.loc[i, 'neighborhood']\n",
    "    \n",
    "    if item in poolCapacityDict:\n",
    "        poolCapacityDict[item] += poolData.loc[i, 'capacity']\n",
    "    else:\n",
    "        poolCapacityDict[item] = poolData.loc[i, 'capacity']"
   ]
  },
  {
   "cell_type": "code",
   "execution_count": 12,
   "metadata": {},
   "outputs": [
    {
     "data": {
      "text/plain": [
       "Bedford Dwellings    538000.0\n",
       "Brookline            417657.0\n",
       "Mount Washington     356000.0\n",
       "Bloomfield           335000.0\n",
       "South Side Flats     312800.0\n",
       "Sheraden             278000.0\n",
       "Allegheny Center     271000.0\n",
       "Carrick              224100.0\n",
       "Polish Hill          215451.0\n",
       "Brighton Heights     205800.0\n",
       "Name: neighborhood, dtype: float64"
      ]
     },
     "execution_count": 12,
     "metadata": {},
     "output_type": "execute_result"
    }
   ],
   "source": [
    "poolCapacitySeries = pd.Series(poolCapacityDict, name = \"neighborhood\")\n",
    "poolCapacitySeries.sort_values(ascending = False)[:10]"
   ]
  },
  {
   "cell_type": "code",
   "execution_count": 13,
   "metadata": {},
   "outputs": [
    {
     "data": {
      "text/plain": [
       "250261.35294117648"
      ]
     },
     "execution_count": 13,
     "metadata": {},
     "output_type": "execute_result"
    }
   ],
   "source": [
    "poolCapacitySeries.mean()"
   ]
  },
  {
   "cell_type": "code",
   "execution_count": null,
   "metadata": {},
   "outputs": [],
   "source": [
    "poolCapacitySeries.sort_values(ascending=False)[:10].plot.bar()\n",
    "plt.title('Pool Capacity per Neighborhood')\n",
    "plt.xlabel('Neighborhoods')\n",
    "plt.ylabel('Capacity (Gallons)')"
   ]
  },
  {
   "cell_type": "code",
   "execution_count": 10,
   "metadata": {},
   "outputs": [
    {
     "name": "stdout",
     "output_type": "stream",
     "text": [
      "{'Bedford Dwellings': 2, 'Banksville': 2, 'Beechview': 2, 'Bloomfield': 2, 'Hazelwood': 2, 'Troy Hill': 2, 'East Hills': 2, 'Highland Park': 3, 'Homewood South': 2, 'Brighton Heights': 2, 'Greenfield': 2, 'Lincoln Place': 2, 'Shadyside': 2, 'Brookline': 2, 'South Side Flats': 3, 'Carrick': 2, 'Mount Washington': 2, 'Perry North': 2, 'Squirrel Hill South': 2, 'Sheraden': 2, 'Allegheny Center': 2, 'Beltzhoover': 2, 'Polish Hill': 2, 'Westwood': 2, 'South Side Slopes': 2, 'Lincoln-Lemington-Belmar': 2, 'Allegheny West': 1, 'Allentown': 1, 'Arlington': 1, 'Arlington Heights': 1, 'Bluff': 1, 'Bon Air': 1, 'California-Kirkbride': 1, 'Central Business District': 1, 'Central Lawrenceville': 1, 'Central Northside': 1, 'Central Oakland': 1, 'Chartiers City': 1, 'Chateau': 1, 'Crafton Heights': 1, 'Crawford-Roberts': 1, 'Duquesne Heights': 1, 'East Allegheny': 1, 'East Carnegie': 1, 'East Liberty': 1, 'Elliott': 1, 'Esplen': 1, 'Fairywood': 1, 'Fineview': 1, 'Friendship': 1, 'Garfield': 1, 'Glen Hazel': 1, 'Hays': 1, 'Homewood North': 1, 'Homewood West': 1, 'Knoxville': 1, 'Larimer': 1, 'Lower Lawrenceville': 1, 'Manchester': 1, 'Marshall-Shadeland': 1, 'Middle Hill': 1, 'Morningside': 1, 'Mount Oliver Borough': 1, 'Mt. Oliver': 1, 'New Homestead': 1, 'North Oakland': 1, 'North Shore': 1, 'Northview Heights': 1, 'Oakwood': 1, 'Overbrook': 1, 'Perry South': 1, 'Point Breeze': 1, 'Point Breeze North': 1, 'Regent Square': 1, 'Ridgemont': 1, 'South Oakland': 1, 'South Shore': 1, 'Spring Garden': 1, 'Spring Hill-City View': 1, 'Squirrel Hill North': 1, 'St. Clair': 1, 'Stanton Heights': 1, 'Strip District': 1, 'Summer Hill': 1, 'Swisshelm Park': 1, 'Terrace Village': 1, 'Upper Hill': 1, 'Upper Lawrenceville': 1, 'West End': 1, 'West Oakland': 1, 'Windgap': 1}\n"
     ]
    }
   ],
   "source": [
    "final_dict = dict()\n",
    "\n",
    "# iterate through the dataframe\n",
    "for i in range(len(poolData)):\n",
    "    # get the item name and quantity\n",
    "    item = poolData.loc[i, 'neighborhood']\n",
    "    \n",
    "    if item in final_dict: # if it's in the dict\n",
    "        final_dict[item] += 1 # add the quantity to it\n",
    "    else:\n",
    "        final_dict[item] = 1 # otherwise, set it to the quantity\n",
    "\n",
    "# iterate through the dataframe\n",
    "for i in range(len(population)):\n",
    "    # get the item name and quantity\n",
    "    item = population.loc[i, 'Neighborhood']\n",
    "    \n",
    "    if item in final_dict: # if it's in the dict\n",
    "        final_dict[item] += 1 # add the quantity to it\n",
    "    else:\n",
    "        final_dict[item] = 1 # otherwise, set it to the quantity\n",
    "        \n",
    "        \n",
    "print(final_dict)"
   ]
  },
  {
   "cell_type": "code",
   "execution_count": null,
   "metadata": {},
   "outputs": [],
   "source": []
  },
  {
   "cell_type": "code",
   "execution_count": null,
   "metadata": {},
   "outputs": [],
   "source": []
  },
  {
   "cell_type": "code",
   "execution_count": null,
   "metadata": {},
   "outputs": [],
   "source": []
  },
  {
   "cell_type": "code",
   "execution_count": null,
   "metadata": {},
   "outputs": [],
   "source": []
  },
  {
   "cell_type": "code",
   "execution_count": null,
   "metadata": {},
   "outputs": [],
   "source": []
  }
 ],
 "metadata": {
  "kernelspec": {
   "display_name": "Python 3",
   "language": "python",
   "name": "python3"
  },
  "language_info": {
   "codemirror_mode": {
    "name": "ipython",
    "version": 3
   },
   "file_extension": ".py",
   "mimetype": "text/x-python",
   "name": "python",
   "nbconvert_exporter": "python",
   "pygments_lexer": "ipython3",
   "version": "3.8.3"
  }
 },
 "nbformat": 4,
 "nbformat_minor": 4
}
